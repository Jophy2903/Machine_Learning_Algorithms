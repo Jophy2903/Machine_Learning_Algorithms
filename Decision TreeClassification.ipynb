{
 "cells": [
  {
   "cell_type": "markdown",
   "metadata": {},
   "source": [
    "# DecisionTreeClassification"
   ]
  },
  {
   "cell_type": "code",
   "execution_count": 1,
   "metadata": {},
   "outputs": [],
   "source": [
    "\n",
    "#22/12/2019\n",
    "#Decision tree classification\n",
    "#classify flowers based on sepals and petals\n"
   ]
  },
  {
   "cell_type": "code",
   "execution_count": 3,
   "metadata": {},
   "outputs": [
    {
     "name": "stdout",
     "output_type": "stream",
     "text": [
      "   sepal length (cm)  sepal width (cm)  petal length (cm)  petal width (cm)\n",
      "0                5.1               3.5                1.4               0.2\n",
      "1                4.9               3.0                1.4               0.2\n",
      "2                4.7               3.2                1.3               0.2\n",
      "[[11  0  0]\n",
      " [ 0 12  1]\n",
      " [ 0  0  6]]\n",
      "              precision    recall  f1-score   support\n",
      "\n",
      "      setosa       1.00      1.00      1.00        11\n",
      "  versicolor       1.00      0.92      0.96        13\n",
      "   virginica       0.86      1.00      0.92         6\n",
      "\n",
      "    accuracy                           0.97        30\n",
      "   macro avg       0.95      0.97      0.96        30\n",
      "weighted avg       0.97      0.97      0.97        30\n",
      "\n",
      "96.66666666666667\n"
     ]
    },
    {
     "data": {
      "text/plain": [
       "<matplotlib.collections.PathCollection at 0x23717518ac8>"
      ]
     },
     "execution_count": 3,
     "metadata": {},
     "output_type": "execute_result"
    },
    {
     "data": {
      "image/png": "[encoded data removed]",
      "text/plain": [
       "<Figure size 432x288 with 1 Axes>"
      ]
     },
     "metadata": {
      "needs_background": "light"
     },
     "output_type": "display_data"
    }
   ],
   "source": [
    "import pandas as pd\n",
    "import numpy as np\n",
    "import seaborn as sns\n",
    "import matplotlib.pyplot as plt\n",
    "\n",
    "from sklearn.datasets import load_iris\n",
    "from sklearn.tree import DecisionTreeClassifier as DCT\n",
    "from sklearn.model_selection import train_test_split\n",
    "from sklearn.metrics import accuracy_score\n",
    "from sklearn.metrics import confusion_matrix \n",
    "from sklearn.metrics import classification_report\n",
    "\n",
    "x=load_iris()\n",
    "df=pd.DataFrame(x.data,columns=x.feature_names)\n",
    "g=df.head(3)\n",
    "print(g)\n",
    "df[\"TypeofFlower\"]=pd.Categorical.from_codes(x.target,x.target_names)\n",
    "#df2=pd.DataFrame(x.target,x.target_names)\n",
    "#here we are converting integers to strings\n",
    "\n",
    "#x=all columns except type of flower\n",
    "#y=type of flower\n",
    "X=df.drop(\"TypeofFlower\",axis=1)\n",
    "Y=df[\"TypeofFlower\"]\n",
    "#print(X,Y)\n",
    "\n",
    "#taking training as 70% and testing as 30%\n",
    "#decision tree taking entropy  ..entropy=0 means all items are homogeneous\n",
    "#based on entropy we are classifying the model\n",
    "#X_train,X_test,Y_train,Y_test=train_test_split(X,Y,random_state=1,test_size=0.3)\n",
    "X_train,X_test,Y_train,Y_test=train_test_split(X,Y,random_state=1,test_size=0.2)\n",
    "\n",
    "#model=DCT(criterion='entropy',random_state=1)\n",
    "model=DCT(criterion='entropy',random_state=1,min_samples_split=10)\n",
    "#print(model)\n",
    "\n",
    "model.fit(X_train,Y_train)\n",
    "#model.predict(X_test)\n",
    "Y_pred=model.predict(X_test)\n",
    "#print(Y_pred)\n",
    "#print(df.head())\n",
    "\n",
    "print(confusion_matrix(Y_test,Y_pred))\n",
    "print(classification_report(Y_test,Y_pred))\n",
    "print(accuracy_score(Y_test,Y_pred)*100)\n",
    "\n",
    "plt.scatter(X_test[\"sepal length (cm)\"],Y_pred)\n",
    "\n",
    "#tuning techniques\n",
    "#a. change test size =0.25\n",
    "#b. min_samples test (above commented lines)\n",
    "\n"
   ]
  },
  {
   "cell_type": "code",
   "execution_count": null,
   "metadata": {},
   "outputs": [],
   "source": [
    "#logistic Regression is 2/2 matrix\n",
    "#decision tree classification is 3/3 matrix \n"
   ]
  }
 ],
 "metadata": {
  "kernelspec": {
   "display_name": "Python 3",
   "language": "python",
   "name": "python3"
  },
  "language_info": {
   "codemirror_mode": {
    "name": "ipython",
    "version": 3
   },
   "file_extension": ".py",
   "mimetype": "text/x-python",
   "name": "python",
   "nbconvert_exporter": "python",
   "pygments_lexer": "ipython3",
   "version": "3.7.3"
  }
 },
 "nbformat": 4,
 "nbformat_minor": 2
}
