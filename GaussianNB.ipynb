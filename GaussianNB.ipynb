{
 "cells": [
  {
   "cell_type": "markdown",
   "metadata": {},
   "source": [
    "# GaussianNB"
   ]
  },
  {
   "cell_type": "code",
   "execution_count": 1,
   "metadata": {},
   "outputs": [],
   "source": [
    "#26/12/2019\n",
    "#GaussianNB relationship between probability of hypothesis and and prob of hypothesis after getting evidence\n",
    "#Bayes theorem, p(H/E)=(p(H)*p(E/H))/p(E), H=Hypothesis E=Evidence\n",
    "#evidence is known, H is unknown\n",
    "#conditional probability of A for given B p(A/B) =(P(A)*P(B/A))/P(B)"
   ]
  },
  {
   "cell_type": "code",
   "execution_count": 2,
   "metadata": {},
   "outputs": [
    {
     "name": "stdout",
     "output_type": "stream",
     "text": [
      "GaussianNB(priors=None, var_smoothing=1e-09)\n",
      "96.66666666666667\n"
     ]
    }
   ],
   "source": [
    "\n",
    "import pandas as pd\n",
    "import numpy as np\n",
    "import seaborn as sns\n",
    "import matplotlib.pyplot as plt\n",
    "\n",
    "from sklearn.datasets import load_iris\n",
    "from sklearn.naive_bayes import GaussianNB\n",
    "from sklearn.model_selection import train_test_split\n",
    "from sklearn.metrics import accuracy_score\n",
    "from sklearn.metrics import confusion_matrix\n",
    "from sklearn.metrics import classification_report\n",
    "\n",
    "data=load_iris()\n",
    "\n",
    "df=pd.DataFrame({'sepal length (cm)' : data.data[:,0],\n",
    "                  'sepal width (cm)':  data.data[:,1],\n",
    "                  'petal length (cm)' :data.data[:,2],\n",
    "                 'petal width  (cm)' : data.data [:,3],\n",
    "                 'species'       : data.target})\n",
    "\n",
    "df[\"species\"]=pd.Categorical.from_codes(data.target,data.target_names)\n",
    "#print(df.head())\n",
    "\n",
    "X=df.drop('species',axis=1)\n",
    "Y= df['species']\n",
    "\n",
    "X_train,X_test,Y_train,Y_test=train_test_split(X,Y,random_state=1,test_size=0.2)\n",
    "model=GaussianNB()\n",
    "print(model)\n",
    "model.fit(X_train,Y_train)\n",
    "model.predict(X_test)\n",
    "Y_pred=model.predict(X_test)\n",
    "\n",
    "#print(confusion_matrix(Y_test,Y_pred))\n",
    "#print(classification_report(Y_test,Y_pred))\n",
    "print(accuracy_score(Y_test,Y_pred)*100)"
   ]
  },
  {
   "cell_type": "code",
   "execution_count": 3,
   "metadata": {},
   "outputs": [],
   "source": [
    "#overfitting, underfittiing\n",
    "#if regression line fiiting max number of datapoints, its ovrfitting (eg. linear regresson)\n",
    "#if touching min number of datapoints, its underfitting\n",
    "#if model is not working good for test data, these 2 terms come in practise\n"
   ]
  },
  {
   "cell_type": "code",
   "execution_count": null,
   "metadata": {},
   "outputs": [],
   "source": []
  }
 ],
 "metadata": {
  "kernelspec": {
   "display_name": "Python 3",
   "language": "python",
   "name": "python3"
  },
  "language_info": {
   "codemirror_mode": {
    "name": "ipython",
    "version": 3
   },
   "file_extension": ".py",
   "mimetype": "text/x-python",
   "name": "python",
   "nbconvert_exporter": "python",
   "pygments_lexer": "ipython3",
   "version": "3.7.3"
  }
 },
 "nbformat": 4,
 "nbformat_minor": 2
}
