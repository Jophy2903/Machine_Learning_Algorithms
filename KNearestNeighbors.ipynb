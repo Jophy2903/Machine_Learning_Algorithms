{
 "cells": [
  {
   "cell_type": "markdown",
   "metadata": {},
   "source": [
    "# KnearestNeighbors"
   ]
  },
  {
   "cell_type": "code",
   "execution_count": 1,
   "metadata": {},
   "outputs": [],
   "source": [
    "#30/12/2019\n",
    "#K-nearest neighbours algorithm\n",
    "#it works based on distance, superwised,voting\n",
    "#based upon a random value, we are trying to classify"
   ]
  },
  {
   "cell_type": "code",
   "execution_count": 2,
   "metadata": {},
   "outputs": [
    {
     "name": "stdout",
     "output_type": "stream",
     "text": [
      "{'n_neighbors': 5}\n",
      "0.9777777777777777\n"
     ]
    }
   ],
   "source": [
    "import pandas as pd\n",
    "import numpy as np\n",
    "import seaborn as sns\n",
    "import matplotlib.pyplot as plt\n",
    "\n",
    "from sklearn.datasets import load_iris\n",
    "from sklearn.neighbors import KNeighborsClassifier as KNN,KNeighborsRegressor as KNR\n",
    "from sklearn.model_selection import train_test_split\n",
    "from sklearn.metrics import accuracy_score,classification_report,confusion_matrix\n",
    "from sklearn.preprocessing import StandardScaler\n",
    "from sklearn.model_selection import GridSearchCV\n",
    "\n",
    "\n",
    "data=load_iris()\n",
    "\n",
    "X=data.data\n",
    "Y= data.target\n",
    "#print(Y)\n",
    "\n",
    "X_train,X_test,Y_train,Y_test=train_test_split(X,Y,random_state=0,test_size=0.3)\n",
    "#we are going to normalize data , to make both variables x and y in the same range according to convenience\n",
    "# like changing from milli seconds to km per hour when we have large data\n",
    "Normalization=StandardScaler()\n",
    "Normalization.fit(X_train)\n",
    "X_train=Normalization.transform(X_train)\n",
    "X_test=Normalization.transform(X_test)\n",
    "#tuning parameter  n_neighbors=2 ,1,5 change these paras\n",
    "#n_neighbors=2 this is the number of nearest points\n",
    "#Error=[]\n",
    "#Accuracy=[]\n",
    "#k=1 accuracy 95  , k=2 accuracy 97, k values and accuracy chanes, we dont know in which k value accuracy is maximum,\n",
    "#so we are creating an empty list and going to appened values\n",
    "\n",
    "#another method to find best parametr is grid search (used in this example)\n",
    "#why these things in this algorithm ? becz k value might be infinity, its difficult to manually check, in all other algorithms-\n",
    "#tuning parameters are of specific value.\n",
    "\n",
    "params={'n_neighbors':[2,3,4,5,6,7,8,9]}\n",
    "Regressor=KNR()\n",
    "model3=GridSearchCV(Regressor,params,cv=5)\n",
    "model3.fit(X_train,Y_train)\n",
    "print(model3.best_params_)\n",
    "#now we got the best parameter as 5..(see output, n_neighbors =5)..so we will get maximum accuracy when giving n_neighbors as 5\n",
    "\n",
    "model=KNN(n_neighbors=5) \n",
    "#print(model)\n",
    "model.fit(X_train,Y_train)\n",
    "model.predict(X_test)\n",
    "Y_pred=model.predict(X_test)\n",
    "print(accuracy_score(Y_test,Y_pred))\n",
    "\n",
    "\n",
    "        "
   ]
  },
  {
   "cell_type": "code",
   "execution_count": 3,
   "metadata": {},
   "outputs": [],
   "source": [
    "#31/12/2019\n",
    "#2nd method using list"
   ]
  },
  {
   "cell_type": "code",
   "execution_count": 4,
   "metadata": {},
   "outputs": [
    {
     "name": "stdout",
     "output_type": "stream",
     "text": [
      "0.9777777777777777\n"
     ]
    },
    {
     "data": {
      "image/png": "[encoded data removed]",
      "text/plain": [
       "<Figure size 432x288 with 1 Axes>"
      ]
     },
     "metadata": {
      "needs_background": "light"
     },
     "output_type": "display_data"
    }
   ],
   "source": [
    "import pandas as pd\n",
    "import numpy as np\n",
    "import seaborn as sns\n",
    "import matplotlib.pyplot as plt\n",
    "\n",
    "from sklearn.datasets import load_iris\n",
    "from sklearn.neighbors import KNeighborsClassifier as KNN,KNeighborsRegressor as KNR\n",
    "from sklearn.model_selection import train_test_split\n",
    "from sklearn.metrics import accuracy_score,classification_report,confusion_matrix,mean_squared_error\n",
    "from sklearn.preprocessing import StandardScaler\n",
    "from sklearn.model_selection import GridSearchCV\n",
    "\n",
    "\n",
    "\n",
    "data=load_iris()\n",
    "\n",
    "X=data.data\n",
    "Y= data.target\n",
    "#print(Y)\n",
    "\n",
    "X_train,X_test,Y_train,Y_test=train_test_split(X,Y,random_state=0,test_size=0.3)\n",
    "Normalization=StandardScaler()\n",
    "Normalization.fit(X_train)\n",
    "X_train=Normalization.transform(X_train)\n",
    "X_test=Normalization.transform(X_test)\n",
    "\n",
    "\n",
    "#creating two null lists\n",
    "Error=[]\n",
    "Accuracy=[]\n",
    "for i in range(1,40):# 40 is the number of rows\n",
    "    modelk=KNN(n_neighbors=i)\n",
    "    modelk.fit(X_train,Y_train)\n",
    "    Y_pred=modelk.predict(X_test)\n",
    "    Error.append(mean_squared_error(Y_pred,Y_test)) #appending values in to the null list\n",
    "    Accuracy.append(accuracy_score(Y_pred,Y_test))\n",
    "    \n",
    "#print(Accuracy)\n",
    "\n",
    "#we are going to plot a graph\n",
    "curve=pd.DataFrame(Error) #converting list in to dataframe\n",
    "plt.plot(curve)\n",
    "# see the output -->y axis error and x axis i value means k value ranges\n",
    "#check in the graph in which k value min error coming\n",
    "#here .02 error for k values 3 to 15 range, so this wil be the best k value we shud give\n",
    "plt.legend(\"Elbow Curve\")\n",
    "plt.xlabel(\"value of k for KNN\")\n",
    "plt.ylabel(\"mean squared error\")\n",
    "plt.title(\"graph for optional value for k\")\n",
    "\n",
    "model=KNN(n_neighbors=6) \n",
    "#print(model)\n",
    "model.fit(X_train,Y_train)\n",
    "model.predict(X_test)\n",
    "Y_pred=model.predict(X_test)\n",
    "print(accuracy_score(Y_test,Y_pred))\n",
    "\n"
   ]
  },
  {
   "cell_type": "code",
   "execution_count": null,
   "metadata": {},
   "outputs": [],
   "source": [
    "#in order to find the relationship between columns, so that we can decide which columns need to omit during data modelling\n",
    "#2 methods\n",
    "#feature selection method and correlation method\n",
    "#included feature selection in random forest example \n",
    "#included correlation in linear regression example (correlation matrix)"
   ]
  }
 ],
 "metadata": {
  "kernelspec": {
   "display_name": "Python 3",
   "language": "python",
   "name": "python3"
  },
  "language_info": {
   "codemirror_mode": {
    "name": "ipython",
    "version": 3
   },
   "file_extension": ".py",
   "mimetype": "text/x-python",
   "name": "python",
   "nbconvert_exporter": "python",
   "pygments_lexer": "ipython3",
   "version": "3.7.3"
  }
 },
 "nbformat": 4,
 "nbformat_minor": 2
}
