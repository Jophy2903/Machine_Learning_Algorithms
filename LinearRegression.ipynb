{
 "cells": [
  {
   "cell_type": "markdown",
   "metadata": {},
   "source": [
    "# LinearRegression"
   ]
  },
  {
   "cell_type": "code",
   "execution_count": null,
   "metadata": {},
   "outputs": [],
   "source": [
    "#09/12/2019\n",
    "#linear regression using maths and statistics -gives realationship betwn dependent and independent variable"
   ]
  },
  {
   "cell_type": "code",
   "execution_count": 3,
   "metadata": {},
   "outputs": [
    {
     "name": "stdout",
     "output_type": "stream",
     "text": [
      "<class 'pandas.core.frame.DataFrame'>\n",
      "RangeIndex: 237 entries, 0 to 236\n",
      "Data columns (total 4 columns):\n",
      "Gender                 237 non-null int64\n",
      "Age Range              237 non-null int64\n",
      "Head Size(cm^3)        237 non-null int64\n",
      "Brain Weight(grams)    237 non-null int64\n",
      "dtypes: int64(4)\n",
      "memory usage: 7.5 KB\n",
      "3633.9915611814345\n",
      "1282.873417721519\n"
     ]
    }
   ],
   "source": [
    "import pandas as pd\n",
    "import numpy as np\n",
    "dataset=pd.read_csv('headbrain.csv')\n",
    "dataset.info()\n",
    "x=dataset['Head Size(cm^3)'].values\n",
    "y=dataset['Brain Weight(grams)'].values\n",
    "mean_x=np.mean(x)\n",
    "mean_y=np.mean(y)\n",
    "print(mean_x)\n",
    "print(mean_y)"
   ]
  },
  {
   "cell_type": "code",
   "execution_count": 4,
   "metadata": {},
   "outputs": [],
   "source": [
    "#to check the relationship between columns head size and brain weight\n",
    "#x= dependent variable, y=independent variable\n",
    "#y=mx+c   m is slope\n",
    "#we are going to predict y value using x value\n",
    "#linear regression considers slope line equation\n",
    "#m=(delta xdeltay)/(deltax)^2 =xi-meanxi\n"
   ]
  },
  {
   "cell_type": "code",
   "execution_count": 5,
   "metadata": {},
   "outputs": [
    {
     "name": "stdout",
     "output_type": "stream",
     "text": [
      "<class 'pandas.core.frame.DataFrame'>\n",
      "RangeIndex: 237 entries, 0 to 236\n",
      "Data columns (total 4 columns):\n",
      "Gender                 237 non-null int64\n",
      "Age Range              237 non-null int64\n",
      "Head Size(cm^3)        237 non-null int64\n",
      "Brain Weight(grams)    237 non-null int64\n",
      "dtypes: int64(4)\n",
      "memory usage: 7.5 KB\n",
      "325.57342104944223\n"
     ]
    },
    {
     "data": {
      "text/plain": [
       "[<matplotlib.lines.Line2D at 0x2b24041de48>]"
      ]
     },
     "execution_count": 5,
     "metadata": {},
     "output_type": "execute_result"
    }
   ],
   "source": [
    "import pandas as pd\n",
    "import numpy as np\n",
    "import matplotlib.pyplot as plt\n",
    "dataset=pd.read_csv('headbrain.csv')\n",
    "dataset.info()\n",
    "x=dataset['Head Size(cm^3)'].values\n",
    "y=dataset['Brain Weight(grams)'].values\n",
    "mean_x=np.mean(x)\n",
    "mean_y=np.mean(y)\n",
    "m1=0\n",
    "m2=0\n",
    "\n",
    "for i in range(len(x)):\n",
    "        m1+=(x[i]-mean_x)*(y[i]-mean_y)\n",
    "        m2+=(x[i]-mean_x)**2\n",
    "m=m1/m2\n",
    "#print(m)\n",
    "c=mean_y-m*mean_x\n",
    "print(c)\n",
    "y_pred=m*x+c  #y=mx+c equation\n",
    "#print(y)\n",
    "plt.scatter(x,y)\n",
    "plt.plot(x,y_pred)\n"
   ]
  },
  {
   "cell_type": "code",
   "execution_count": 6,
   "metadata": {},
   "outputs": [
    {
     "name": "stdout",
     "output_type": "stream",
     "text": [
      "72.1206213783709\n"
     ]
    }
   ],
   "source": [
    "#12/10/2019\n",
    "#Root mean square method for accuracy checking\n",
    "#now we have (x,y_pred value) and we have (x,y)..so accuracy will be difference between these two  ie.. y_pred-y\n",
    "rmse=0\n",
    "for i in range(len(x)):\n",
    "    rmse+=((y_pred[i]-y[i])**2)/len(x)\n",
    "rmse=np.sqrt(rmse)\n",
    "print(rmse)\n"
   ]
  },
  {
   "cell_type": "code",
   "execution_count": 7,
   "metadata": {},
   "outputs": [
    {
     "name": "stdout",
     "output_type": "stream",
     "text": [
      "0.6393117199570003\n"
     ]
    }
   ],
   "source": [
    "#r square method\n",
    "#distance between mean to predicted and dis betwn mean to actual\n",
    "a=0\n",
    "b=0\n",
    "y_pred=c+(m*x)\n",
    "for i in range(len(x)):\n",
    "    a+= (y[i]-mean_y)**2\n",
    "    b+= (y[i] - y_pred[i])**2\n",
    "r_square=1-(b/a)\n",
    "print(r_square)"
   ]
  },
  {
   "cell_type": "code",
   "execution_count": 8,
   "metadata": {},
   "outputs": [],
   "source": [
    "#standared error of estimate :distance betwn predicted and actual \n",
    "#r square is a process of comparing the distance betwn mean to actual values and distance betwn mean to estimated values.\n",
    "\n",
    "#2nd method\n",
    "#R square=  sigma(y_pred-y_mean)**2/(y-y_mean)**2"
   ]
  },
  {
   "cell_type": "code",
   "execution_count": null,
   "metadata": {},
   "outputs": [],
   "source": [
    "#now we are going to see how the same will work in machine learning\n",
    "import pandas as pd\n",
    "import numpy as np\n",
    "from sklearn,linear_model import LinearRegression\n",
    "from sklearn.metrics import r2_score,mean_squared_error\n",
    "x_input = x.reshape(237,1)\n",
    "y_input = y.reshape(237,1)\n",
    "lm=linear_model.LinearRegression()\n",
    "lm.fit(x_input,y_input)\n",
    "y_pred=lm.predict(x_input)\n",
    "print(y_pred)"
   ]
  },
  {
   "cell_type": "code",
   "execution_count": 3,
   "metadata": {},
   "outputs": [
    {
     "name": "stdout",
     "output_type": "stream",
     "text": [
      "<class 'pandas.core.frame.DataFrame'>\n",
      "RangeIndex: 237 entries, 0 to 236\n",
      "Data columns (total 4 columns):\n",
      "Gender                 237 non-null int64\n",
      "Age Range              237 non-null int64\n",
      "Head Size(cm^3)        237 non-null int64\n",
      "Brain Weight(grams)    237 non-null int64\n",
      "dtypes: int64(4)\n",
      "memory usage: 7.5 KB\n"
     ]
    },
    {
     "ename": "NameError",
     "evalue": "name 'x' is not defined",
     "output_type": "error",
     "traceback": [
      "\u001b[1;31m---------------------------------------------------------------------------\u001b[0m",
      "\u001b[1;31mNameError\u001b[0m                                 Traceback (most recent call last)",
      "\u001b[1;32m<ipython-input-3-d687374e53eb>\u001b[0m in \u001b[0;36m<module>\u001b[1;34m\u001b[0m\n\u001b[0;32m      8\u001b[0m \u001b[0mdataset\u001b[0m\u001b[1;33m.\u001b[0m\u001b[0minfo\u001b[0m\u001b[1;33m(\u001b[0m\u001b[1;33m)\u001b[0m\u001b[1;33m\u001b[0m\u001b[1;33m\u001b[0m\u001b[0m\n\u001b[0;32m      9\u001b[0m \u001b[1;33m\u001b[0m\u001b[0m\n\u001b[1;32m---> 10\u001b[1;33m \u001b[0mx_input\u001b[0m \u001b[1;33m=\u001b[0m \u001b[0mx\u001b[0m\u001b[1;33m.\u001b[0m\u001b[0mreshape\u001b[0m\u001b[1;33m(\u001b[0m\u001b[1;36m237\u001b[0m\u001b[1;33m,\u001b[0m\u001b[1;36m1\u001b[0m\u001b[1;33m)\u001b[0m\u001b[1;33m\u001b[0m\u001b[1;33m\u001b[0m\u001b[0m\n\u001b[0m\u001b[0;32m     11\u001b[0m \u001b[0my_input\u001b[0m \u001b[1;33m=\u001b[0m \u001b[0my\u001b[0m\u001b[1;33m.\u001b[0m\u001b[0mreshape\u001b[0m\u001b[1;33m(\u001b[0m\u001b[1;36m237\u001b[0m\u001b[1;33m,\u001b[0m\u001b[1;36m1\u001b[0m\u001b[1;33m)\u001b[0m\u001b[1;33m\u001b[0m\u001b[1;33m\u001b[0m\u001b[0m\n\u001b[0;32m     12\u001b[0m \u001b[0mlm\u001b[0m\u001b[1;33m=\u001b[0m\u001b[0mlinear_model\u001b[0m\u001b[1;33m.\u001b[0m\u001b[0mLinearRegression\u001b[0m\u001b[1;33m(\u001b[0m\u001b[1;33m)\u001b[0m\u001b[1;33m\u001b[0m\u001b[1;33m\u001b[0m\u001b[0m\n",
      "\u001b[1;31mNameError\u001b[0m: name 'x' is not defined"
     ]
    }
   ],
   "source": [
    "import pandas as pd\n",
    "import numpy as np\n",
    "import matplotlib.pyplot as plt\n",
    "from sklearn.linear_model import LinearRegression\n",
    "from sklearn.metrics import r2_score,mean_squared_error\n",
    "\n",
    "dataset=pd.read_csv('headbrain.csv')\n",
    "dataset.info()\n",
    "\n",
    "x_input = x.reshape(237,1)\n",
    "y_input = y.reshape(237,1)\n",
    "lm=linear_model.LinearRegression()\n",
    "lm.fit(x_input,y_input)\n",
    "y_pred=lm.predict(x_input)\n",
    "#give real value and check\n",
    "#y_pred=lm.predict([[4512]])\n",
    "#print(y_pred)\n",
    "\n",
    "\n",
    "\n",
    "print(np.sqrt(mean_squared_error(y_input,y_pred)))\n",
    "print(r2_score(y_input,y_pred))\n",
    "\n"
   ]
  },
  {
   "cell_type": "code",
   "execution_count": 11,
   "metadata": {},
   "outputs": [],
   "source": [
    "#12/12/2019\n",
    "#simple linear regression towards datascience.com (for more read)"
   ]
  },
  {
   "cell_type": "code",
   "execution_count": 13,
   "metadata": {},
   "outputs": [
    {
     "data": {
      "image/png": "[encoded data removed]",
      "text/plain": [
       "<Figure size 432x288 with 1 Axes>"
      ]
     },
     "metadata": {
      "needs_background": "light"
     },
     "output_type": "display_data"
    }
   ],
   "source": [
    "# graphical representation of columns \n",
    "\n",
    "import pandas as pd\n",
    "import numpy as np\n",
    "import seaborn as sns\n",
    "from matplotlib.pyplot import figure,show\n",
    "from seaborn import countplot #statisctical visualizsation\n",
    "\n",
    "dataset=pd.read_csv('titanic.csv')\n",
    "dataset['Sex'].head\n",
    "\n",
    "\n",
    "#graphical representation of one column\n",
    "#to know values of one column survived, in below graph 0 means dead people and 1 means survived (refer column survived in excel sheet) \n",
    "#count chart:\n",
    "#1.column chart\n",
    "\n",
    "figure()\n",
    "sns.countplot(data = dataset,x='Survived')\n",
    "show()\n"
   ]
  },
  {
   "cell_type": "code",
   "execution_count": 14,
   "metadata": {},
   "outputs": [],
   "source": [
    "#explorative data analysis: (how the values are distributed)\n",
    "#1.unirative data analysis\n",
    "#2.pirative\n",
    "#3.multi"
   ]
  },
  {
   "cell_type": "code",
   "execution_count": 15,
   "metadata": {},
   "outputs": [
    {
     "data": {
      "text/plain": [
       "<matplotlib.axes._subplots.AxesSubplot at 0x2b246af71d0>"
      ]
     },
     "execution_count": 15,
     "metadata": {},
     "output_type": "execute_result"
    },
    {
     "data": {
      "image/png": "[encoded data removed]",
      "text/plain": [
       "<Figure size 360x360 with 2 Axes>"
      ]
     },
     "metadata": {
      "needs_background": "light"
     },
     "output_type": "display_data"
    }
   ],
   "source": [
    "#Bar chart (same as column chart but x and y in opposite, vertical count plot )\n",
    "import pandas as pd\n",
    "import numpy as np\n",
    "import seaborn as sns\n",
    "from matplotlib.pyplot import figure,show\n",
    "from seaborn import countplot #seaborn used for statistical visualisation\n",
    "\n",
    "dataset=pd.read_csv('titanic.csv')\n",
    "plt.figure(figsize=(5,5))\n",
    "sns.heatmap(dataset.corr(),annot=True,cmap=\"RdYlGn\")\n",
    "\n",
    "#figure()\n",
    "#countplot(data = dataset,y='Survived')\n",
    "#show()"
   ]
  },
  {
   "cell_type": "code",
   "execution_count": 16,
   "metadata": {},
   "outputs": [
    {
     "data": {
      "image/png": "[encoded data removed]",
      "text/plain": [
       "<Figure size 864x576 with 1 Axes>"
      ]
     },
     "metadata": {
      "needs_background": "light"
     },
     "output_type": "display_data"
    }
   ],
   "source": [
    "#to change width and height\n",
    "\n",
    "import pandas as pd\n",
    "import numpy as np\n",
    "import seaborn as sns\n",
    "from matplotlib.pyplot import figure,show\n",
    "from seaborn import countplot #statisctical visualisation\n",
    "\n",
    "dataset=pd.read_csv('titanic.csv')\n",
    "\n",
    "#width=12\n",
    "#height=6\n",
    "#figure(figsize=(width,height))\n",
    "figure(figsize=(12,8)) # to change width and height\n",
    "countplot(data = dataset,x='Survived')\n",
    "show()"
   ]
  },
  {
   "cell_type": "code",
   "execution_count": 17,
   "metadata": {},
   "outputs": [
    {
     "data": {
      "image/png": "[encoded data removed]",
      "text/plain": [
       "<Figure size 432x288 with 1 Axes>"
      ]
     },
     "metadata": {
      "needs_background": "light"
     },
     "output_type": "display_data"
    }
   ],
   "source": [
    "# to change the order of elements 1.survived 0.dead\n",
    "import pandas as pd\n",
    "import numpy as np\n",
    "import seaborn as sns\n",
    "from matplotlib.pyplot import figure,show\n",
    "from seaborn import countplot \n",
    "\n",
    "dataset=pd.read_csv('titanic.csv')\n",
    "\n",
    "figure()\n",
    "#order=[1,0] #to change order\n",
    "#countplot(data = dataset,order=order,x='Survived')\n",
    "countplot(data = dataset,order=[1,0],x='Survived')\n",
    "show()"
   ]
  },
  {
   "cell_type": "code",
   "execution_count": 18,
   "metadata": {},
   "outputs": [
    {
     "data": {
      "image/png": "[encoded data removed]",
      "text/plain": [
       "<Figure size 1080x720 with 1 Axes>"
      ]
     },
     "metadata": {
      "needs_background": "light"
     },
     "output_type": "display_data"
    }
   ],
   "source": [
    "\n",
    "#to show in descending order\n",
    "import pandas as pd\n",
    "import seaborn as sns\n",
    "from matplotlib.pyplot import figure,show\n",
    "from seaborn import countplot \n",
    "\n",
    "dataset=pd.read_csv('titanic.csv')\n",
    "\n",
    "\n",
    "#showing fare in descending order\n",
    "m=dataset['Fare'].value_counts().sort_values(ascending=False).index\n",
    "figure(figsize=(15,10))\n",
    "\n",
    "countplot(data = dataset,x='Fare',order=m,color='tomato')\n",
    "sns.set(style='darkgrid')\n",
    "show()"
   ]
  },
  {
   "cell_type": "code",
   "execution_count": 19,
   "metadata": {},
   "outputs": [
    {
     "ename": "NameError",
     "evalue": "name 'order' is not defined",
     "output_type": "error",
     "traceback": [
      "\u001b[1;31m---------------------------------------------------------------------------\u001b[0m",
      "\u001b[1;31mNameError\u001b[0m                                 Traceback (most recent call last)",
      "\u001b[1;32m<ipython-input-19-cd31b83a7dc7>\u001b[0m in \u001b[0;36m<module>\u001b[1;34m\u001b[0m\n\u001b[0;32m      8\u001b[0m \u001b[1;33m\u001b[0m\u001b[0m\n\u001b[0;32m      9\u001b[0m \u001b[0mfigure\u001b[0m\u001b[1;33m(\u001b[0m\u001b[0mfigsize\u001b[0m\u001b[1;33m=\u001b[0m\u001b[1;33m(\u001b[0m\u001b[1;36m10\u001b[0m\u001b[1;33m,\u001b[0m\u001b[1;36m5\u001b[0m\u001b[1;33m)\u001b[0m\u001b[1;33m)\u001b[0m\u001b[1;33m\u001b[0m\u001b[1;33m\u001b[0m\u001b[0m\n\u001b[1;32m---> 10\u001b[1;33m \u001b[0mcountplot\u001b[0m\u001b[1;33m(\u001b[0m\u001b[0mdata\u001b[0m \u001b[1;33m=\u001b[0m \u001b[0mdataset\u001b[0m\u001b[1;33m,\u001b[0m\u001b[0morder\u001b[0m\u001b[1;33m=\u001b[0m\u001b[0morder\u001b[0m\u001b[1;33m,\u001b[0m\u001b[0mx\u001b[0m\u001b[1;33m=\u001b[0m\u001b[1;34m'Survived'\u001b[0m\u001b[1;33m)\u001b[0m\u001b[1;33m.\u001b[0m\u001b[0mset_xticklabels\u001b[0m\u001b[1;33m(\u001b[0m\u001b[1;33m[\u001b[0m\u001b[1;34m'dead'\u001b[0m\u001b[1;33m,\u001b[0m\u001b[1;34m'alive'\u001b[0m\u001b[1;33m]\u001b[0m\u001b[1;33m)\u001b[0m \u001b[1;31m#renaming\u001b[0m\u001b[1;33m\u001b[0m\u001b[1;33m\u001b[0m\u001b[0m\n\u001b[0m\u001b[0;32m     11\u001b[0m \u001b[1;31m#countplot(data = dataset,x='Fare',order=m,color='tomato')\u001b[0m\u001b[1;33m\u001b[0m\u001b[1;33m\u001b[0m\u001b[1;33m\u001b[0m\u001b[0m\n\u001b[0;32m     12\u001b[0m \u001b[0msns\u001b[0m\u001b[1;33m.\u001b[0m\u001b[0mset\u001b[0m\u001b[1;33m(\u001b[0m\u001b[0mstyle\u001b[0m\u001b[1;33m=\u001b[0m\u001b[1;34m'darkgrid'\u001b[0m\u001b[1;33m)\u001b[0m\u001b[1;33m\u001b[0m\u001b[1;33m\u001b[0m\u001b[0m\n",
      "\u001b[1;31mNameError\u001b[0m: name 'order' is not defined"
     ]
    },
    {
     "data": {
      "text/plain": [
       "<Figure size 720x360 with 0 Axes>"
      ]
     },
     "metadata": {},
     "output_type": "display_data"
    }
   ],
   "source": [
    "\n",
    "#rename elements\n",
    "import pandas as pd\n",
    "import seaborn as sns\n",
    "from matplotlib.pyplot import figure,show\n",
    "from seaborn import countplot \n",
    "\n",
    "dataset=pd.read_csv('titanic.csv')\n",
    "\n",
    "figure(figsize=(10,5))\n",
    "countplot(data = dataset,order=order,x='Survived').set_xticklabels(['dead','alive']) #renaming\n",
    "#countplot(data = dataset,x='Fare',order=m,color='tomato')\n",
    "sns.set(style='darkgrid')\n",
    "show()"
   ]
  },
  {
   "cell_type": "code",
   "execution_count": 1,
   "metadata": {},
   "outputs": [
    {
     "data": {
      "text/plain": [
       "<Figure size 640x480 with 1 Axes>"
      ]
     },
     "metadata": {},
     "output_type": "display_data"
    }
   ],
   "source": [
    "#Homework\n",
    "#try these  :  sns.setXlabel(\"\"), sns._setYlabel(\"\"), sns.set_title(\"\"), sns.set_style(\"\"), sns.set_(font_scale=1.4)\n",
    "import pandas as pd\n",
    "import seaborn as sns\n",
    "from matplotlib.pyplot import figure,show\n",
    "from seaborn import countplot #statistical visualisation\n",
    "\n",
    "dataset=pd.read_csv('titanic.csv')\n",
    "\n",
    "#countplot(data = dataset,x='Survived').set_xticklabels(['dead','alive']) \n",
    "#countplot(data = dataset,x='Survived').set_title(\"fittest\")\n",
    "countplot(data = dataset,x='Survived').set(xlabel='one',ylabel='two',title='test')\n",
    "sns.set_style(\"darkgrid\")\n",
    "\n",
    "show()\n"
   ]
  },
  {
   "cell_type": "code",
   "execution_count": null,
   "metadata": {},
   "outputs": [],
   "source": []
  }
 ],
 "metadata": {
  "kernelspec": {
   "display_name": "Python 3",
   "language": "python",
   "name": "python3"
  },
  "language_info": {
   "codemirror_mode": {
    "name": "ipython",
    "version": 3
   },
   "file_extension": ".py",
   "mimetype": "text/x-python",
   "name": "python",
   "nbconvert_exporter": "python",
   "pygments_lexer": "ipython3",
   "version": "3.7.3"
  }
 },
 "nbformat": 4,
 "nbformat_minor": 2
}
