{
 "cells": [
  {
   "cell_type": "markdown",
   "metadata": {},
   "source": [
    "# LogisticRegression"
   ]
  },
  {
   "cell_type": "code",
   "execution_count": 1,
   "metadata": {},
   "outputs": [],
   "source": [
    "#19/12/2019\n",
    "#Logistic regression (relationship between two variables, sigmoid fn graph, used for classification)"
   ]
  },
  {
   "cell_type": "code",
   "execution_count": 3,
   "metadata": {},
   "outputs": [
    {
     "name": "stderr",
     "output_type": "stream",
     "text": [
      "C:\\Users\\Indian\\Anaconda3\\lib\\site-packages\\sklearn\\linear_model\\logistic.py:432: FutureWarning: Default solver will be changed to 'lbfgs' in 0.22. Specify a solver to silence this warning.\n",
      "  FutureWarning)\n"
     ]
    },
    {
     "name": "stdout",
     "output_type": "stream",
     "text": [
      "[[146  20]\n",
      " [ 24  77]]\n",
      "              precision    recall  f1-score   support\n",
      "\n",
      "           0       0.86      0.88      0.87       166\n",
      "           1       0.79      0.76      0.78       101\n",
      "\n",
      "    accuracy                           0.84       267\n",
      "   macro avg       0.83      0.82      0.82       267\n",
      "weighted avg       0.83      0.84      0.83       267\n",
      "\n",
      "0.8352059925093633\n"
     ]
    },
    {
     "data": {
      "image/png": "[encoded data removed]",
      "text/plain": [
       "<Figure size 432x288 with 1 Axes>"
      ]
     },
     "metadata": {
      "needs_background": "light"
     },
     "output_type": "display_data"
    }
   ],
   "source": [
    "# 1.importing libraries\n",
    "import pandas as pd\n",
    "import numpy as np\n",
    "import seaborn as sns\n",
    "import matplotlib.pyplot as plt  #here we are fetching mainly pyplot from matplotlib\n",
    "\n",
    "from sklearn.linear_model import LogisticRegression\n",
    "#from sklearn.cross_validation import train_test_split\n",
    "from sklearn.model_selection import train_test_split\n",
    "from sklearn.metrics import confusion_matrix #accuracy check- confusion matrix\n",
    "from sklearn.metrics import classification_report,accuracy_score\n",
    "\n",
    "\n",
    "#2. collecting data\n",
    "\n",
    "dataset=pd.read_csv('titanic.csv')\n",
    "#dataset.info()\n",
    "#dataset.head()\n",
    "#dataset.tail()\n",
    "#dataset.describe()\n",
    "#dataset.count()\n",
    "\n",
    "\n",
    "#3. analysing data (using seaborn libraries)\n",
    "\n",
    "#sns.countplot(x='Sex', data=dataset)\n",
    "#sns.countplot(x='Survived',data=dataset)\n",
    "#sns.countplot(x='Survived',hue='Sex',data=dataset)# hue refers which column used for colour encoding\n",
    "#sns.countplot(x='Survived',hue='Pclass',data=dataset)\n",
    "\n",
    "#dataset['Age'].plot.hist()\n",
    "#dataset['Fare'].plot.hist()\n",
    "#dataset[dataset['Sex'].str.match('female')].count()\n",
    "#dataset[dataset['Sex'].str.match('male')].count()\n",
    "\n",
    "#sns.boxplot(x='Pclass',y=\"Age\",data=dataset)\n",
    "\n",
    "\n",
    "#4.cleaning data (find null values)\n",
    "#dataset.isnull()\n",
    "#dataset.isnull().sum()\n",
    "#plt.figure(figsize=(20.0,10.0))\n",
    "#sns.heatmap(dataset.isnull())\n",
    "\n",
    "#fill null values with mean values in age column\n",
    "mean=dataset['Age'].mean()\n",
    "dataset[\"Age\"]=dataset['Age'].fillna(mean) #fill null values with mean values\n",
    "dataset.isnull().sum()\n",
    "\n",
    "\n",
    "dataset.drop('Cabin',inplace=True,axis=1)#axis is structure \n",
    "dataset.dropna(inplace=True)\n",
    "#dataset.isnull().sum()\n",
    "\n",
    "20/12/2019\n",
    "\n",
    "#5. Data modelling (converting categorical to numerical values, it will be easy the machine to understand numerical variables than string variables) v)\n",
    "\n",
    "\n",
    "# obtain columns having numerical values 0 or 1..column headings will be the original values and\n",
    "#omits one column to make the table more precise\n",
    "#Eg:1. 'Sex' column contains 2 strings 'male' and 'female'. creating 2 columns as heading 'male' and 'female'\n",
    "# male=1 it is male...male=0 ,its female..vice versa..(female column not needed becz male col can indicate value of female)\n",
    "#eg :2. 'Pclass' contains values 1,2,3..creating 2 columns as heading 2 ,3 respectively.(see the output)\n",
    "#column name 1 is not needed.if col 2=0 and col 3=0 then col 1 value will be 1.\n",
    "a=pd.get_dummies(dataset['Sex'],drop_first=True)#a is dummy column(column'male' in the output)\n",
    "b=pd.get_dummies(dataset['Pclass'],drop_first=True) #b is dummy column(columns '2' and '3' in the output )\n",
    "c=pd.get_dummies(dataset['Embarked'],drop_first=True) #c is dummy column (columns 'Q' and 'S' in the output)\n",
    "dataset=pd.concat([dataset,a,b,c],axis=1)# adding the newly created columns in to the original dataset\n",
    "dataset.head()\n",
    "\n",
    "#deleting Sex,Pclass and Embarked columns(we created dummy columns for these) and other unwanted columns\n",
    "dataset.drop(['PassengerId','Pclass','Name',\"Sex\",'Ticket','Embarked'],axis=1,inplace=True)\n",
    "dataset.head()\n",
    "\n",
    "#Logistic regression starts here( take Y=survived and X as all other columns)\n",
    "\n",
    "X=dataset.drop('Survived',axis=1)\n",
    "Y=dataset['Survived']\n",
    "\n",
    "X_train,X_test,Y_train,Y_test=train_test_split(X,Y,random_state=1,test_size=0.3)\n",
    "\n",
    "#test_size=0.3 indicates  we take 70% data for training purpose and 30% for testing\n",
    "#random_state=1 indicates same pattern of splitting occurs every time when we run the code..\n",
    "\n",
    "\n",
    "#next we are going to import model\n",
    "logmodel=LogisticRegression()\n",
    "logmodel.fit(X_train,Y_train) #giving training datas in to the model\n",
    "Y_pred=logmodel.predict(X_test)#We will get y prediction value from giving xtest into the model\n",
    "\n",
    "#now we have tables having columns  x test, y pred....and other table having columns xtest and y test...we are going to compare y pred and y test\n",
    "print(confusion_matrix(Y_test,Y_pred))\n",
    "print(classification_report(Y_test,Y_pred))\n",
    "\n",
    "#146+77=223)/223+24+20= .83  (statictical value from confusion matrix) \n",
    "\n",
    "plt.scatter(X_test[\"Age\"],Y_pred) #we will get a sigmoid plot since logistic regression\n",
    "\n",
    "#dataset=pd.concat([dataset,Y_pred],axis=1)\n",
    "#sns.countplot(x='Age',hue='Y_pred',data=dataset)\n",
    "print(accuracy_score(Y_test,Y_pred))\n",
    "\n",
    "\n",
    "\n"
   ]
  },
  {
   "cell_type": "code",
   "execution_count": 15,
   "metadata": {},
   "outputs": [
    {
     "data": {
      "text/plain": [
       "<matplotlib.axes._subplots.AxesSubplot at 0x262c5f5c4e0>"
      ]
     },
     "execution_count": 15,
     "metadata": {},
     "output_type": "execute_result"
    },
    {
     "data": {
      "image/png": "[encoded data removed]",
      "text/plain": [
       "<Figure size 432x288 with 2 Axes>"
      ]
     },
     "metadata": {
      "needs_background": "light"
     },
     "output_type": "display_data"
    }
   ],
   "source": [
    "import pandas as pd\n",
    "import numpy as np\n",
    "import seaborn as sns\n",
    "import matplotlib.pyplot as plt  #here we are fetching mainly pyplot from matplotlib\n",
    "\n",
    "from sklearn.linear_model import LogisticRegression\n",
    "#from sklearn.cross_validation import train_test_split\n",
    "from sklearn.model_selection import train_test_split\n",
    "from sklearn.metrics import confusion_matrix #accuracy check- confusion matrix\n",
    "from sklearn.metrics import classification_report,accuracy_score\n",
    "\n",
    "\n",
    "#2. collecting data\n",
    "\n",
    "dataset=pd.read_csv('titanic.csv')\n",
    "#dataset.info()\n",
    "#dataset.head()\n",
    "#dataset.tail()\n",
    "#dataset.describe()\n",
    "#dataset.count()\n",
    "\n",
    "\n",
    "#3. analysing data (using seaborn libraries)\n",
    "\n",
    "#sns.countplot(x='Sex', data=dataset)\n",
    "#sns.countplot(x='Survived',data=dataset)\n",
    "#sns.countplot(x='Survived',hue='Sex',data=dataset)# hue refers which column used for colour encoding\n",
    "#sns.countplot(x='Survived',hue='Pclass',data=dataset)\n",
    "\n",
    "#dataset['Age'].plot.hist()\n",
    "#dataset['Fare'].plot.hist()\n",
    "#dataset[dataset['Sex'].str.match('female')].count()\n",
    "#dataset[dataset['Sex'].str.match('male')].count()\n",
    "\n",
    "#sns.boxplot(x='Pclass',y=\"Age\",data=dataset)\n",
    "\n",
    "sns.heatmap(dataset.isnull())\n",
    "\n"
   ]
  },
  {
   "cell_type": "code",
   "execution_count": null,
   "metadata": {},
   "outputs": [],
   "source": []
  }
 ],
 "metadata": {
  "kernelspec": {
   "display_name": "Python 3",
   "language": "python",
   "name": "python3"
  },
  "language_info": {
   "codemirror_mode": {
    "name": "ipython",
    "version": 3
   },
   "file_extension": ".py",
   "mimetype": "text/x-python",
   "name": "python",
   "nbconvert_exporter": "python",
   "pygments_lexer": "ipython3",
   "version": "3.7.3"
  }
 },
 "nbformat": 4,
 "nbformat_minor": 2
}
