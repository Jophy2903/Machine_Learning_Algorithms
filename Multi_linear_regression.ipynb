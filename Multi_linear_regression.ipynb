{
 "cells": [
  {
   "cell_type": "code",
   "execution_count": 1,
   "metadata": {},
   "outputs": [],
   "source": [
    "#Multi linear Regression"
   ]
  },
  {
   "cell_type": "code",
   "execution_count": 2,
   "metadata": {},
   "outputs": [],
   "source": [
    "#LR    y=mx+c       only one dependent and independent variable  c is constant\n",
    "#MLR   Y=b0+b1x1+b2x2+....+bnxn   more independent variables     b0 is constant  b1,b2 et are coefficients\n",
    "# b0 means b0x0...x0 is zero\n"
   ]
  },
  {
   "cell_type": "code",
   "execution_count": 70,
   "metadata": {},
   "outputs": [
    {
     "name": "stdout",
     "output_type": "stream",
     "text": [
      "8637.020996538555\n",
      "0.952967609542534\n"
     ]
    },
    {
     "ename": "AttributeError",
     "evalue": "module 'statsmodels.formula.api' has no attribute 'OLS'",
     "output_type": "error",
     "traceback": [
      "\u001b[1;31m---------------------------------------------------------------------------\u001b[0m",
      "\u001b[1;31mAttributeError\u001b[0m                            Traceback (most recent call last)",
      "\u001b[1;32m<ipython-input-70-34052916d30a>\u001b[0m in \u001b[0;36m<module>\u001b[1;34m\u001b[0m\n\u001b[0;32m     40\u001b[0m \u001b[1;33m\u001b[0m\u001b[0m\n\u001b[0;32m     41\u001b[0m \u001b[1;31m#x_opt=x[:,[0,1,2,3,4,5]]\u001b[0m\u001b[1;33m\u001b[0m\u001b[1;33m\u001b[0m\u001b[1;33m\u001b[0m\u001b[0m\n\u001b[1;32m---> 42\u001b[1;33m \u001b[0mmodel\u001b[0m\u001b[1;33m=\u001b[0m\u001b[0msm\u001b[0m\u001b[1;33m.\u001b[0m\u001b[0mOLS\u001b[0m\u001b[1;33m(\u001b[0m\u001b[0mendog\u001b[0m\u001b[1;33m=\u001b[0m\u001b[0my\u001b[0m\u001b[1;33m,\u001b[0m\u001b[0mexog\u001b[0m\u001b[1;33m=\u001b[0m\u001b[0mx\u001b[0m\u001b[1;33m)\u001b[0m\u001b[1;33m.\u001b[0m\u001b[0mfit\u001b[0m\u001b[1;33m(\u001b[0m\u001b[1;33m)\u001b[0m\u001b[1;33m\u001b[0m\u001b[1;33m\u001b[0m\u001b[0m\n\u001b[0m\u001b[0;32m     43\u001b[0m \u001b[0mmodel\u001b[0m\u001b[1;33m.\u001b[0m\u001b[0msummary\u001b[0m\u001b[1;33m(\u001b[0m\u001b[1;33m)\u001b[0m\u001b[1;33m\u001b[0m\u001b[1;33m\u001b[0m\u001b[0m\n\u001b[0;32m     44\u001b[0m \u001b[1;33m\u001b[0m\u001b[0m\n",
      "\u001b[1;31mAttributeError\u001b[0m: module 'statsmodels.formula.api' has no attribute 'OLS'"
     ]
    }
   ],
   "source": [
    "import pandas as pd\n",
    "import numpy as np\n",
    "import seaborn as sns\n",
    "import matplotlib.pyplot as plt\n",
    "\n",
    "from sklearn import linear_model\n",
    "from sklearn.model_selection import train_test_split\n",
    "from sklearn.metrics import r2_score,mean_squared_error,accuracy_score\n",
    "import statsmodels.formula.api as sm\n",
    "\n",
    "df=pd.read_csv('50_Startups.csv')\n",
    "#X =df.drop('Profit', axis=1)\n",
    "#Y= df.iloc[:,-1].values\n",
    "dataset=pd.read_csv('50_Startups.csv') #export dataset and remove index\n",
    "dataset.head()\n",
    "#y pred is profit here...x1 mark spend x2 is admin  x3 is r &d spend\n",
    "#convert state column (categorical values)into numerical values(do data modelling) make d1(0 in output) and d2 (1 in output)\n",
    "#then profit = b0+x1+x2+x3+d1+d2\n",
    "\n",
    "\n",
    "a=pd.get_dummies(dataset['State'],drop_first=True)\n",
    "dataset=pd.concat([dataset,a],axis=1)\n",
    "dataset.drop(['State'],axis=1,inplace=True)\n",
    "#dataset.head()\n",
    "\n",
    "#add a new column whose value is 1\n",
    "dataset[\"new_col\"]=1\n",
    "X=dataset.drop('Profit',axis=1)\n",
    "Y=dataset['Profit']\n",
    "\n",
    "X_train,X_test,Y_train,Y_test=train_test_split(X,Y,random_state=1,test_size=0.3)\n",
    "lm=linear_model.LinearRegression()\n",
    "lm.fit(X_train,Y_train) \n",
    "Y_pred=lm.predict(X_test)\n",
    "\n",
    "print(np.sqrt(mean_squared_error(Y_test,Y_pred)))\n",
    "print(r2_score(Y_test,Y_pred))\n",
    "#print(accuracy_score(Y_test,Y_pred))\n",
    "\n",
    "\n",
    "#x_opt=x[:,[0,1,2,3,4,5]]\n",
    "model=sm.OLS(endog=y,exog=x).fit()\n",
    "model.summary()\n",
    "\n",
    "\n",
    "\n",
    "#from sklearn.preprocessing import LabelEncoder, OneHotEncoder\n",
    "#le = LabelEncoder()\n",
    "#X[:, 3:] = le.fit_transform(X[:, 3:])\n",
    "\n",
    "#ohe = OneHotEncoder(categorical_features=[3])\n",
    "#X = ohe.fit_transform(X).toarray()\n",
    "\n"
   ]
  },
  {
   "cell_type": "code",
   "execution_count": null,
   "metadata": {},
   "outputs": [],
   "source": [
    "# 1. all -in (including all x features) if very specific to domain such as medical we dono the fields so dono how to omit columns\n",
    "# 2.backward elimination ...p value greater than significant level we remove those\n",
    "# 3.forwad selection\n",
    "#4.Bi directional elimination\n",
    "# 5.score comparition"
   ]
  }
 ],
 "metadata": {
  "kernelspec": {
   "display_name": "Python 3",
   "language": "python",
   "name": "python3"
  },
  "language_info": {
   "codemirror_mode": {
    "name": "ipython",
    "version": 3
   },
   "file_extension": ".py",
   "mimetype": "text/x-python",
   "name": "python",
   "nbconvert_exporter": "python",
   "pygments_lexer": "ipython3",
   "version": "3.7.3"
  }
 },
 "nbformat": 4,
 "nbformat_minor": 2
}
