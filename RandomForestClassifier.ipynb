{
 "cells": [
  {
   "cell_type": "markdown",
   "metadata": {},
   "source": [
    "# RandomForestClassifier"
   ]
  },
  {
   "cell_type": "code",
   "execution_count": 1,
   "metadata": {},
   "outputs": [],
   "source": [
    "#23/12/2019\n",
    "#iris dataset..apply for dct as well as logistic"
   ]
  },
  {
   "cell_type": "code",
   "execution_count": 2,
   "metadata": {},
   "outputs": [],
   "source": [
    "#difference between linear and logistic\n",
    "#Linear\n",
    "#straight line, regression,dependency betwn depe and ind variable,y value can be anything\n",
    "#logistic\n",
    "#s-curve,no relation betwn dependent and independent, y value only 0 and 1, major use for classification"
   ]
  },
  {
   "cell_type": "code",
   "execution_count": 3,
   "metadata": {},
   "outputs": [],
   "source": [
    "#RandomForest\n",
    "#splitting data into multiple decision trees\n",
    "#80% training->25-> dct->prediction\n",
    "                #25->dct-pred\n",
    "               # 25->dct->pre\n",
    "                                      # merging all the abve pred\n",
    "            "
   ]
  },
  {
   "cell_type": "code",
   "execution_count": 4,
   "metadata": {},
   "outputs": [],
   "source": [
    "#first preferenced algorithm\n",
    "#so many dcts, will take much time, disadvantage"
   ]
  },
  {
   "cell_type": "code",
   "execution_count": 3,
   "metadata": {},
   "outputs": [
    {
     "name": "stdout",
     "output_type": "stream",
     "text": [
      "[0.09343152 0.02697644 0.46202478 0.41756726]\n"
     ]
    },
    {
     "data": {
      "image/png": "[encoded data removed]",
      "text/plain": [
       "<Figure size 432x288 with 1 Axes>"
      ]
     },
     "metadata": {
      "needs_background": "light"
     },
     "output_type": "display_data"
    }
   ],
   "source": [
    "import pandas as pd\n",
    "import numpy as np\n",
    "import seaborn as sns\n",
    "import matplotlib.pyplot as plt\n",
    "\n",
    "from sklearn.datasets import load_iris\n",
    "from sklearn.ensemble import RandomForestClassifier as RFC\n",
    "from sklearn.model_selection import train_test_split\n",
    "from sklearn.metrics import accuracy_score\n",
    "from sklearn.metrics import confusion_matrix\n",
    "from sklearn.metrics import classification_report\n",
    "\n",
    "data=load_iris()\n",
    "\n",
    "#correlation matrix\n",
    "#old=data.corr()\n",
    "#topold=old.index\n",
    "#plt.figure(figsize=(20,20))\n",
    "#sns.heatmap(data[topold].corr(),annot=True,cmap=\"RdYlGn\")\n",
    "\n",
    "df=pd.DataFrame(np.column_stack((data.data,data.target)), columns = data.feature_names+['target'])\n",
    "df.head()\n",
    "corr=df.corr()\n",
    "#sns.heatmap(corr)\n",
    "\n",
    "            \n",
    "#we can use dct method also to define df\n",
    "df=pd.DataFrame({'sepal length (cm)' : data.data[:,0],\n",
    "                  'sepal width (cm)':  data.data[:,1],\n",
    "                  'petal length (cm)' :data.data[:,2],\n",
    "                 'petal width  (cm)' : data.data [:,3],\n",
    "                 'species'       : data.target})\n",
    "#convert numerical values of species in to string values\n",
    "df[\"species\"]=pd.Categorical.from_codes(data.target,data.target_names)\n",
    "#print(df.head())\n",
    "\n",
    "X=df.drop('species',axis=1)\n",
    "Y= df['species']\n",
    "\n",
    "X_train,X_test,Y_train,Y_test=train_test_split(X,Y,random_state=1,test_size=0.2)\n",
    "model=RFC(n_estimators=50)\n",
    "model.fit(X_train,Y_train)\n",
    "\n",
    "#feature selection\n",
    "print(model.feature_importances_)\n",
    "new=pd.Series(model.feature_importances_,index=X_train.columns)\n",
    "new.plot(kind='barh')\n",
    "plt.show()\n",
    "\n",
    "\n",
    "Y_pred=model.predict(X_test)\n",
    "\n",
    "\n",
    "#print(confusion_matrix(Y_test,Y_pred))\n",
    "#print(classification_report(Y_test,Y_pred))\n",
    "#print(accuracy_score(Y_test,Y_pred)*100)\n",
    "\n",
    "#plt.scatter(X_test[\"sepal length (cm)\"],Y_pred)\n",
    "#plt.xlabel('petalLength')\n",
    "#plt.ylabel('typeofflower')\n",
    "#plt.title('Flower')\n"
   ]
  },
  {
   "cell_type": "code",
   "execution_count": null,
   "metadata": {},
   "outputs": [],
   "source": []
  }
 ],
 "metadata": {
  "kernelspec": {
   "display_name": "Python 3",
   "language": "python",
   "name": "python3"
  },
  "language_info": {
   "codemirror_mode": {
    "name": "ipython",
    "version": 3
   },
   "file_extension": ".py",
   "mimetype": "text/x-python",
   "name": "python",
   "nbconvert_exporter": "python",
   "pygments_lexer": "ipython3",
   "version": "3.7.3"
  }
 },
 "nbformat": 4,
 "nbformat_minor": 2
}
