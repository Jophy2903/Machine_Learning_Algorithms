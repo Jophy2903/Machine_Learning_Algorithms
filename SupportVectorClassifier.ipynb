{
 "cells": [
  {
   "cell_type": "markdown",
   "metadata": {},
   "source": [
    "# SVM"
   ]
  },
  {
   "cell_type": "code",
   "execution_count": 1,
   "metadata": {},
   "outputs": [],
   "source": [
    "#2/01/2020\n",
    "#3 dimension (x,y,z),trying to classify elements with respect to space.., difficult to represent"
   ]
  },
  {
   "cell_type": "code",
   "execution_count": 29,
   "metadata": {},
   "outputs": [
    {
     "name": "stdout",
     "output_type": "stream",
     "text": [
      "[[11  0  0]\n",
      " [ 0 13  0]\n",
      " [ 0  0  6]]\n",
      "              precision    recall  f1-score   support\n",
      "\n",
      "         0.0       1.00      1.00      1.00        11\n",
      "         1.0       1.00      1.00      1.00        13\n",
      "         2.0       1.00      1.00      1.00         6\n",
      "\n",
      "    accuracy                           1.00        30\n",
      "   macro avg       1.00      1.00      1.00        30\n",
      "weighted avg       1.00      1.00      1.00        30\n",
      "\n",
      "1.0\n"
     ]
    },
    {
     "data": {
      "image/png": "[encoded data removed]",
      "text/plain": [
       "<Figure size 432x288 with 1 Axes>"
      ]
     },
     "metadata": {
      "needs_background": "light"
     },
     "output_type": "display_data"
    }
   ],
   "source": [
    "import pandas as pd\n",
    "import numpy as np\n",
    "import seaborn as sns\n",
    "import matplotlib.pyplot as plt\n",
    "\n",
    "from sklearn.datasets import load_iris\n",
    "from sklearn.svm import SVC\n",
    "from sklearn.model_selection import train_test_split\n",
    "from sklearn.metrics import accuracy_score,classification_report,confusion_matrix\n",
    "\n",
    "#dataset=pd.read_csv('titanic.csv')\n",
    "data=load_iris()\n",
    "#print(type(dataset)) #datatype is dataframe\n",
    "#print(type(datset2)) datastype is bunch , correlation wont work here since it is loaded from sklearn, so need to convert it to dataframe\n",
    "#load iris-->1.features -->1.data (values)\n",
    "#                            2.feature_names(only column names)\n",
    " #          2.target--->\n",
    "#we need data only in order to access that below syntax\n",
    "#towardsdatascience.com/featureselction\n",
    "\n",
    "\n",
    "#correlation\n",
    "df=pd.DataFrame(np.column_stack((data.data,data.target)), columns = data.feature_names+['target'])\n",
    "#print(df.head())\n",
    "corr=df.corr()\n",
    "#sns.heatmap(corr)\n",
    "#after analysing graph, omit white colour(same type)\n",
    "\n",
    "X=df.drop(['petal width (cm)','target'],axis=1)\n",
    "Y= df['target']\n",
    "\n",
    "X_train,X_test,Y_train,Y_test=train_test_split(X,Y,random_state=1,test_size=0.2)\n",
    "model=SVC( kernel='linear')\n",
    "#print(model)\n",
    "model.fit(X_train,Y_train)\n",
    "\n",
    "model.predict(X_test)\n",
    "Y_pred=model.predict(X_test)\n",
    "\n",
    "\n",
    "print(confusion_matrix(Y_test,Y_pred))\n",
    "print(classification_report(Y_test,Y_pred))\n",
    "print(accuracy_score(Y_test,Y_pred))\n",
    "\n",
    "\n",
    "plt.scatter(X_test[\"sepal length (cm)\"],Y_pred)\n",
    "plt.scatter(X_test[\"sepal length (cm)\"],Y_test,marker='+',color='red')\n",
    "plt.xlabel('features')\n",
    "plt.ylabel('target')\n",
    "plt.title('svm')\n",
    "plt.show()\n",
    "#feature selection\n",
    "#print(model.feature_importances_)\n",
    "#new=pd.Series(model.feature_importances_,index=X_train.columns)\n",
    "#new.plot(kind='barh')\n",
    "#plt.show()\n",
    "\n",
    "\n"
   ]
  },
  {
   "cell_type": "code",
   "execution_count": 30,
   "metadata": {},
   "outputs": [],
   "source": [
    "#correlation mtrix in random forest...error..no attribute corr\n",
    "#applied same syntax of support vector and getting same graph"
   ]
  },
  {
   "cell_type": "code",
   "execution_count": 2,
   "metadata": {},
   "outputs": [],
   "source": [
    "#03/01/2020"
   ]
  },
  {
   "cell_type": "code",
   "execution_count": null,
   "metadata": {},
   "outputs": [],
   "source": []
  }
 ],
 "metadata": {
  "kernelspec": {
   "display_name": "Python 3",
   "language": "python",
   "name": "python3"
  },
  "language_info": {
   "codemirror_mode": {
    "name": "ipython",
    "version": 3
   },
   "file_extension": ".py",
   "mimetype": "text/x-python",
   "name": "python",
   "nbconvert_exporter": "python",
   "pygments_lexer": "ipython3",
   "version": "3.7.3"
  }
 },
 "nbformat": 4,
 "nbformat_minor": 2
}
